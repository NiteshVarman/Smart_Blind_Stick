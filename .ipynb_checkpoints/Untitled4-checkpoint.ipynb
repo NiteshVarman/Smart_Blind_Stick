{
 "cells": [
  {
   "cell_type": "code",
   "execution_count": null,
   "id": "3b9fa240-681b-4e88-a918-e33cf4e98963",
   "metadata": {},
   "outputs": [],
   "source": [
    "import pandas as pd\n",
    "\n",
    "# Load the CSV file\n",
    "def add_id_column(input_csv, output_csv):\n",
    "    df = pd.read_csv(xdata.csv)\n",
    "    \n",
    "    # Add an ID column as the first column\n",
    "    df.insert(0, 'ID', range(1, len(df) + 1))\n",
    "    \n",
    "    # Save the modified CSV\n",
    "    df.to_csv(output_csv, index=False)\n",
    "    print(f\"Updated CSV saved as {output_csv}\")\n",
    "\n",
    "# Example usage\n",
    "input_csv = \"xdata.csv\"  # Replace with your actual input file\n",
    "output_csv = \"output.csv\"  # Replace with your desired output file\n",
    "add_id_column(input_csv, output_csv)\n"
   ]
  }
 ],
 "metadata": {
  "kernelspec": {
   "display_name": "Python 3 (ipykernel)",
   "language": "python",
   "name": "python3"
  },
  "language_info": {
   "codemirror_mode": {
    "name": "ipython",
    "version": 3
   },
   "file_extension": ".py",
   "mimetype": "text/x-python",
   "name": "python",
   "nbconvert_exporter": "python",
   "pygments_lexer": "ipython3",
   "version": "3.12.4"
  }
 },
 "nbformat": 4,
 "nbformat_minor": 5
}
